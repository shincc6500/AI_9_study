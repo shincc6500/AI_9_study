{
 "cells": [
  {
   "cell_type": "markdown",
   "metadata": {},
   "source": [
    "### **과제  내용**\n",
    "\n",
    "1. 플레이어와 컴퓨터가 참여하는 숫자 맞추기 게임을 만드세요. \n",
    "2. 프로그램은 다음과 같은 기능을 포함해야 합니다.\n",
    "- 컴퓨터는 1부터 10 사이의 랜덤한 숫자를 생성합니다. 완료 \n",
    "- 플레이어는 숫자를 입력하고, 입력한 숫자가 큰지 작은지 힌트를 얻습니다. 완료\n",
    "- 플레이어가 숫자를 맞힐 때까지 위 과정을 반복합니다. 완료\n",
    "\n",
    "### **추가 도전 과제**\n",
    "\n",
    "1. 플레이어가 입력한 숫자가 범위를 벗어날 경우, 적절한 안내 메시지를 출력하여 유효한 범위 내의 숫자를 입력하도록 유도하세요. 완료\n",
    "2. 플레이어가 게임을 반복하고 싶을 경우, 게임 재시작 여부를 묻고 그에 따라 게임을 초기화하거나 종료하는 기능을 추가하세요. 완료"
   ]
  },
  {
   "cell_type": "code",
   "execution_count": null,
   "metadata": {},
   "outputs": [
    {
     "name": "stdout",
     "output_type": "stream",
     "text": [
      "게임을 시작합니다. \n",
      " 1~10 사이의 숫자 하나를 정했습니다. \n",
      " 정답은 무었일까요?\n",
      "\n",
      "유효하지 않은 입력입니다. 다시 입력하세요.\n",
      "\n",
      "예상 숫자 :  4\n",
      "입력값이 정답보다 작습니다.\n",
      "\n",
      "예상 숫자 :  5\n",
      "입력값이 정답보다 작습니다.\n",
      "\n",
      "예상 숫자 :  6\n",
      "입력값이 정답보다 작습니다.\n",
      "\n",
      "예상 숫자 :  7\n",
      "입력값이 정답보다 작습니다.\n",
      "\n",
      "예상 숫자 :  8\n",
      "정답입니다\n",
      "\n",
      "게임을 종료하겠습니다.\n"
     ]
    }
   ],
   "source": [
    "import random as rand #모듈 호출.\n",
    "\n",
    "playing_game = 'y' #게임 진행 초기값 설정. 기본값은 게임 시작하는 y\n",
    "\n",
    "while playing_game == 'y': #playing_game를 이용하여 게임을 실행할지 여부를 판단. \n",
    "    target = rand.randrange(1,11) #1~10에서 정답을 랜덤으로 생성. \n",
    "    print(\"게임을 시작합니다. \\n 1~10 사이의 숫자 하나를 정했습니다. \\n 정답은 무었일까요?\\n\")\n",
    "\n",
    "    while True: #게임 진행을 위한 영역.         \n",
    "        input_number = input(\"1~10까지의 숫자를 입력하세요. \") # 입력값을 받음. \n",
    "\n",
    "        try : #입력값의 유효성 판단.\n",
    "            input_number = int(input_number) #입력값을 정수형으로 변환. \n",
    "            if input_number in range(1,11): #입력이 1~10 사이의 정수인지 판단.  \n",
    "                print(\"예상 숫자 : \", input_number)        \n",
    "            else : #입력이 1~10 사이가 아닌 경우 입력과정부터. \n",
    "                print(\"입력 범위 밖의 값입니다. 다시 입력하세요.\\n\")\n",
    "                continue      \n",
    "        except: #입력값이 정수형으로 변환 불가능할 경우 입력과정부터. 소수점이 존재할 경우 문자열을 정수형으로 바로 변환 불가능. \n",
    "            print(\"유효하지 않은 입력입니다. 다시 입력하세요.\\n\")\n",
    "            continue \n",
    "\n",
    "        # 입력값과 정답의 대소비교. \n",
    "        if target > input_number:\n",
    "            print(\"입력값이 정답보다 작습니다.\\n\")\n",
    "            continue #정답이 아닌경우 입력 과정부터 다시\n",
    "        elif target < input_number:\n",
    "            print(\"입력값이 정답보다 큽니다.\\n\")\n",
    "            continue #정답이 아닌 경우 입력과정부터 다시. \n",
    "        else :\n",
    "            print(\"정답입니다\\n\")\n",
    "            break #정답일 경우 게임 진행 영역 탈출.\n",
    "    \n",
    "    while True: #게임 지속에 관한 결정을 하기 위한 영역. \n",
    "        playing_game = input(\"게임을 계속 하시겠습니까?\\n(y/n)\").lower() #게임을 지속할지 여부를 입력받는다. \n",
    "        if playing_game in ('y','n'): #대소문자 y,n이 입력받는 경우 입력을 종료한다. \n",
    "            if playing_game == 'y': #전체 반복문 유지 조건일 경우\n",
    "                print(\"게임을 다시 시작합니다.\\n\")\n",
    "                break #게임 지속에 관한 반복문을 탈출\n",
    "            else:#전체 반복문 유지 조건이 아닌 경우.\n",
    "                print(\"게임을 종료하겠습니다.\")\n",
    "                break #게임 지속에 관한 반복문을 탈출\n",
    "        else: #대소문자 y,n이 아닌경우 다시 입력을 요구한다. \n",
    "            print(\"유효하지 않은 입력입니다. 다시 입력해주세요.\")"
   ]
  },
  {
   "cell_type": "code",
   "execution_count": null,
   "metadata": {},
   "outputs": [],
   "source": []
  }
 ],
 "metadata": {
  "kernelspec": {
   "display_name": "Python 3",
   "language": "python",
   "name": "python3"
  },
  "language_info": {
   "codemirror_mode": {
    "name": "ipython",
    "version": 3
   },
   "file_extension": ".py",
   "mimetype": "text/x-python",
   "name": "python",
   "nbconvert_exporter": "python",
   "pygments_lexer": "ipython3",
   "version": "3.10.11"
  }
 },
 "nbformat": 4,
 "nbformat_minor": 2
}
