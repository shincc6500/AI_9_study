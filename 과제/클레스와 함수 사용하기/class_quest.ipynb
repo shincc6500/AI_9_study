{
 "cells": [
  {
   "cell_type": "code",
   "execution_count": 27,
   "metadata": {},
   "outputs": [],
   "source": [
    "class people:\n",
    "    def __init__(self, name, gender, age): #초기화 설정. \n",
    "        self.name = name\n",
    "        self.gender = gender\n",
    "        self.age = age\n",
    "\n",
    "    def validate_age(self, age):\n",
    "        \"\"\"나이 값 검증\"\"\"\n",
    "        try: #입력값이 숫자형인지 판단. \n",
    "           \n",
    "            age = int(age)\n",
    "            if age < 0:\n",
    "                print(\"나이는 양수입니다. 0 이상의 정수를 입력해주세요.\\n\")\n",
    "                return 0\n",
    "            return True\n",
    "        except ValueError as e:\n",
    "            print(\"나이는 정수입니다. 정수를 입력해 주세요\\n\")\n",
    "            return 0  # 기본값으로 0 반환\n",
    "        \n",
    "    def validate_gender(self, gender):\n",
    "        \"\"\"성별 값 검증\"\"\"\n",
    "        if gender.lower() in (\"male\", \"female\"):\n",
    "            return True\n",
    "        else:\n",
    "            print(\"성별은 male과 female 중 입력하세요.\\n\")\n",
    "            return False  # 기본값\n",
    "        \n",
    "    def display(self):\n",
    "        \"\"\"정보 출력\"\"\"\n",
    "        print(f\"이름: {self.name}, 성별: {self.gender}\\n나이: {self.age}\")\n",
    "        self.greet()\n",
    "\n",
    "    def greet(self):\n",
    "        \"\"\"나이에 따른 인사말 출력\"\"\"\n",
    "        if 0 < int(self.age) < 20:\n",
    "            print(f\"안녕하세요, {self.name}! 어린이!\")\n",
    "        elif int(self.age) in range(20,40):\n",
    "            print(f\"안녕하세요, {self.name} 씨\")\n",
    "        elif int(self.age) in range(40,60):\n",
    "            print(f\"안녕하십니까, {self.name} 선생님!\")\n",
    "        elif int(self.age) in range(40,60):\n",
    "            print(f\"안녕하십니까, {self.name} 어르신!\")\n",
    "        else:\n",
    "            print(f\"안녕하세요, {self.name}! 나이가 유효하지 않네요.\")"
   ]
  },
  {
   "cell_type": "code",
   "execution_count": 28,
   "metadata": {},
   "outputs": [],
   "source": [
    "def main():  # 실행 함수\n",
    "    name = input(\"이름:\")\n",
    "    gender = input(\"성별:\")\n",
    "    age = input(\"나이:\")\n",
    "    while True:\n",
    "        p = people(name, gender, age)\n",
    "        # 성별 검증\n",
    "        if p.validate_gender(gender) == False:\n",
    "            gender = input(\"성별을 다시 입력해주세요 (male 또는 female):\")\n",
    "            continue  # 다시 검증\n",
    "        # 나이 검증\n",
    "        if p.validate_age(age) == 0:\n",
    "            age = input(\"나이를 다시 입력해주세요 (0 이상의 정수):\")\n",
    "            continue  # 다시 검증\n",
    "        break  # 유효한 값이면 루프 종료\n",
    "    # 최종 결과 출력\n",
    "    print('')\n",
    "    p.display()"
   ]
  },
  {
   "cell_type": "code",
   "execution_count": 29,
   "metadata": {},
   "outputs": [
    {
     "name": "stdout",
     "output_type": "stream",
     "text": [
      "나이는 정수입니다. 정수를 입력해 주세요\n",
      "\n",
      "\n",
      "이름: 이상혁, 성별: male\n",
      "나이: 44\n",
      "안녕하십니까, 이상혁 선생님!\n"
     ]
    }
   ],
   "source": [
    "main()"
   ]
  },
  {
   "cell_type": "code",
   "execution_count": null,
   "metadata": {},
   "outputs": [],
   "source": []
  }
 ],
 "metadata": {
  "kernelspec": {
   "display_name": "Python 3",
   "language": "python",
   "name": "python3"
  },
  "language_info": {
   "codemirror_mode": {
    "name": "ipython",
    "version": 3
   },
   "file_extension": ".py",
   "mimetype": "text/x-python",
   "name": "python",
   "nbconvert_exporter": "python",
   "pygments_lexer": "ipython3",
   "version": "3.10.11"
  }
 },
 "nbformat": 4,
 "nbformat_minor": 2
}
