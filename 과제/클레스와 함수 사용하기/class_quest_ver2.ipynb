{
 "cells": [
  {
   "cell_type": "markdown",
   "metadata": {},
   "source": [
    "### **과제 내용**\n",
    "\n",
    "- 이름, 성별, 나이를 입력받고, 이를 출력하는 프로그램을 작성해주세요.\n",
    "\n",
    "### **처리 조건**\n",
    "\n",
    "- **클래스 정의**\n",
    "    - `Person`이라는 이름의 클래스를 정의한다.  완료\n",
    "- **멤버 변수**\n",
    "    - `name`, `gender`, `age`라는 멤버 변수를 설정한다.   완료\n",
    "    - 각 변수는 객체가 생성될 때 초기화된다. 완료\n",
    "        - `name`: 이름을 저장하는 변수 (문자열) 완료\n",
    "        - `gender`: 성별을 저장하는 변수 (문자열, \"male\" 또는 \"female\") 완료\n",
    "        - `age`: 나이를 저장하는 변수 (정수형)  완료\n",
    "- **생성자**\n",
    "    - 생성자 `__init__`를 통해 객체 생성 시 이름, 성별, 나이를 초기화한다. 완료\n",
    "    - 매개변수로 이름(`name`), 성별(`gender`), 나이(`age`)를 받는다. 완료\n",
    "- **정보를 출력하는 함수 `display()`**\n",
    "    - `name`, `gender`, `age` 값을 출력하는 기능을 구현한다.  완료\n",
    "    - 이름과 성별은 같은 행에 출력하고, 나이는 다음 행에 출력한다. 완료\n",
    "- **입력 및 출력**\n",
    "    - 사용자로부터 나이, 이름, 성별을 각각 입력받는다.\n",
    "    - 입력된 값을 바탕으로 `Person` 객체를 생성하고, `display()` 함수를 통해 객체의 정보를 출력한다.\n",
    "\n",
    "### **추가 도전 과제**\n",
    "1. `Person` 클래스 생성자에서 사용자의 성별 입력값에 대한 유효성 검사를 추가해주세요.\n",
    "    - `gender` 값이 `male` 또는 `female`로만 입력될 수 있도록 제한하는 로직을 넣으면 됩니다.\n",
    "    - 잘못된 입력이 들어오면 오류 메시지를 출력하고, 올바른 성별을 입력받을 때까지 반복해서 입력을 받도록 구현할 수 있습니다.\n",
    "    \n",
    "2. `Person` 클래스에 나잇대에 맞는 인사 메시지를 출력할 수 있도록 `greet()` 함수를 추가해주세요.\n",
    "    - **`greet() 함수`**는 `age` 값에 따라 다음과 같은 메시지를 출력합니다."
   ]
  },
  {
   "cell_type": "code",
   "execution_count": null,
   "metadata": {},
   "outputs": [],
   "source": [
    "class Person: #클레스 정의 \n",
    "    def __init__(self, name, gender, age): #클레스 요소 초기화\n",
    "        self.name = name\n",
    "        self.gender = self.validate_gender(gender)\n",
    "        self.age = self.validate_age(age)\n",
    "        \n",
    "    #age 값 검증 매서드\n",
    "    def validate_age(self, age):\n",
    "        try: #입력값이 정수인지 판단. 실수가 문자열이 됬을 경우 오류 발생하여 검증가능. \n",
    "            age = int(age) #\n",
    "            if age < 0:\n",
    "                print(\"나이는 0 이상의 양의 정수를 입력해주세요. \\n\")\n",
    "                return False\n",
    "            return age\n",
    "        except ValueError as e:\n",
    "            print(\"나이는 정수를 입력해주세요. \\n\")            \n",
    "            return False  #잘못된 값일시 False 반환\n",
    "        \n",
    "    #gender 값 검증 매서드\n",
    "    def validate_gender(self, gender):                \n",
    "        if gender.lower() in (\"male\", \"female\"): #소문자로 변환하여 대소문자 구분 무효화 및 유효값 확인\n",
    "            return gender.lower() #유효값 반환\n",
    "        else:  #유효값이 아니라는 결과를 반환. \n",
    "            print(\"성별은 male과 female 중 입력하세요.\\n\")\n",
    "            return False  # 기본값\n",
    "\n",
    "    #display() 출력용 매서드 정의\n",
    "    def display(self):\n",
    "        print(f\"이름: {self.name}, 성별: {self.gender}\\n나이: {self.age}\") #변수로 출력값 지정. \n",
    "        self.greet() #나이에 따른 인사 출력. \n",
    "\n",
    "    #나이에 따른 인사말 출력 매서드\n",
    "    def greet(self):  \n",
    "        if 0 < self.age < 20:\n",
    "            print(f\"안녕하세요, {self.name}! 어린이!\")\n",
    "        elif self.age in range(20,40):\n",
    "            print(f\"안녕하세요, {self.name} 씨\")\n",
    "        elif self.age in range(40,60):\n",
    "            print(f\"안녕하십니까, {self.name} 선생님!\")\n",
    "        elif self.age >= 60:\n",
    "            print(f\"안녕하십니까, {self.name} 어르신!\")\n",
    "        else:\n",
    "            print(f\"안녕하세요, {self.name}! 나이가 유효하지 않네요.\")"
   ]
  },
  {
   "cell_type": "code",
   "execution_count": null,
   "metadata": {},
   "outputs": [],
   "source": [
    "def main():  # 실행 함수\n",
    "    #클레스에 입력할 매개변수 입력.\n",
    "    name = input(\"이름:\")\n",
    "    gender = input(\"성별:\")\n",
    "    age = input(\"나이:\")\n",
    "    #입력값 검증. 입력값 문제 없을 때까지 내부 과정 반복.\n",
    "    while True:        \n",
    "        sample = Person(name, gender, age) #people 객체 생성. \n",
    "                \n",
    "        # gender에서 잘못된 값 입력시 gender에 다시 입력 시도.\n",
    "        if sample.gender ==False: #유효값일시 p.gender과 gender는 일치\n",
    "            gender = input(\"성별을 다시 입력해주세요 (male 또는 female): \\n\")           \n",
    "            continue  # 다시 검증\n",
    "       \n",
    "        # age에서 잘못된 값 입력시 age에 다시 입력 시도. \n",
    "        if sample.age == False:  #데이터 타입 일치 시킨 후 값 비교. \n",
    "            age = input(\"나이를 다시 입력해주세요 (0 이상의 정수): \\n\")      \n",
    "            continue  # 다시 검증\n",
    "\n",
    "        break  # 유효한 값이면 루프 종료\n",
    "\n",
    "    # 최종 결과 출력\n",
    "    return sample.display()\n",
    " \n"
   ]
  },
  {
   "cell_type": "code",
   "execution_count": 9,
   "metadata": {},
   "outputs": [
    {
     "name": "stdout",
     "output_type": "stream",
     "text": [
      "성별은 male과 female 중 입력하세요.\n",
      "\n",
      "나이는 정수를 입력해주세요. \n",
      "\n",
      "나이는 정수를 입력해주세요. \n",
      "\n",
      "나이는 0 이상의 양의 정수를 입력해주세요. \n",
      "\n",
      "이름: 이상혁, 성별: male\n",
      "나이: 40\n",
      "안녕하십니까, 이상혁 선생님!\n"
     ]
    }
   ],
   "source": [
    "main()"
   ]
  },
  {
   "cell_type": "code",
   "execution_count": null,
   "metadata": {},
   "outputs": [],
   "source": []
  }
 ],
 "metadata": {
  "kernelspec": {
   "display_name": "Python 3",
   "language": "python",
   "name": "python3"
  },
  "language_info": {
   "codemirror_mode": {
    "name": "ipython",
    "version": 3
   },
   "file_extension": ".py",
   "mimetype": "text/x-python",
   "name": "python",
   "nbconvert_exporter": "python",
   "pygments_lexer": "ipython3",
   "version": "3.10.11"
  }
 },
 "nbformat": 4,
 "nbformat_minor": 2
}
