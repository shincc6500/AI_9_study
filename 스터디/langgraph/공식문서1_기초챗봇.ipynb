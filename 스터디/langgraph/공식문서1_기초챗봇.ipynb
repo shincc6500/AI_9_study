{
 "cells": [
  {
   "cell_type": "markdown",
   "metadata": {},
   "source": [
    "# 공식 문서 튜토리얼\n",
    "## 기초 챗봇 구성.\n",
    "\n",
    "langgraph 기반의 기본적인 질문에 대한 응답이 가능한 구조의 챗봇 구성 방법. \n",
    "\n",
    "원본 공식 문서는 chatantropic 를 사용하지만, 이 문서에서는 chatopenai 를 사용함. "
   ]
  },
  {
   "cell_type": "code",
   "execution_count": null,
   "metadata": {},
   "outputs": [],
   "source": [
    "# # 필요한 패키지 설치\n",
    "# # 주피터 노트북에 가상환경을 연동 위한 준비 \n",
    "# pip install jupyter ipykernel\n",
    "# # 주피터 노트북에 커널 추가하는 코드 python 가상환경을 주피터 노트북의 환경으로 사용할 경우 필수, 아나콘다 가상환경의 경우 필요 없을 수 있음. \n",
    "# python -m ipykernel install --user --name=graph_env(환경 명) --display-name \"Python (langgraph)\"(커널 명) \n",
    "\n",
    "# #langgraph 및 감시용 langsmith, llm 모델용 langchain_openai 설치. \n",
    "# !pip install -U langgraph langsmith langchain_openai\n",
    "# # 검색용 tavily_python 및 langchain_community 설치\n",
    "# pip install -U tavily-python langchain_community"
   ]
  },
  {
   "cell_type": "code",
   "execution_count": 1,
   "metadata": {},
   "outputs": [],
   "source": [
    "import getpass\n",
    "import os\n",
    "\n",
    "#환경변수에 값 등록하기 위한 함수\n",
    "def _set_env(var: str):\n",
    "    if not os.environ.get(var):\n",
    "        os.environ[var] = getpass.getpass(f\"{var}: \")\n"
   ]
  },
  {
   "cell_type": "code",
   "execution_count": 2,
   "metadata": {},
   "outputs": [],
   "source": [
    "# Tavily_api_key 입력 \n",
    "_set_env(\"TAVILY_API_KEY\")\n",
    "#openai api key 저장.\n",
    "_set_env(\"OPENAI_API_KEY\")"
   ]
  },
  {
   "cell_type": "markdown",
   "metadata": {},
   "source": [
    "## 기초적인 챗봇 구성"
   ]
  },
  {
   "cell_type": "code",
   "execution_count": 17,
   "metadata": {},
   "outputs": [],
   "source": [
    "from typing import Annotated\n",
    "from langchain_openai import ChatOpenAI\n",
    "from typing_extensions import TypedDict\n",
    "\n",
    "from langgraph.graph import StateGraph, START, END\n",
    "from langgraph.graph.message import add_messages\n",
    "\n",
    "\n",
    "class State(TypedDict):# state는 dict 구조로 생성. \n",
    "    # 메세지는 리스트 구성으로 생성, add_messages로 추가됨. \n",
    "    # annotated는 message가 어떻게 처리되는지를 정의. 이 코드에서는 리스트를 덮어쓰는게 아니라 갱신하는 구조로 작동.\n",
    "    messages: Annotated[list, add_messages]\n",
    "\n",
    "# State 기반으로 그래프 생성 및 변수에 할당. \n",
    "graph_builder = StateGraph(State)\n",
    "\n",
    "llm  = ChatOpenAI(model=\"gpt-4o-mini\")\n",
    "\n",
    "# 챗봇 기능용 함수. state의 message를 llm에 입력.\n",
    "def chatbot(state: State):\n",
    "    return {\"messages\": [llm.invoke(state[\"messages\"])]}\n",
    "\n",
    "\n",
    "\n",
    "# 첫번째 요소는 고유한 노드의 이름, 두번째 요소는 호출할 함수 or 호출됬을때 사용할 객체\n",
    "graph_builder.add_node(\"chatbot\", chatbot)\n",
    "\n",
    "# 첫번째 요소는 출발 노드, 두번재 요소는 도착 노드. \n",
    "graph_builder.add_edge(START, \"chatbot\")\n",
    "graph_builder.add_edge(\"chatbot\", END)\n",
    "graph = graph_builder.compile()\n",
    "\n",
    "# #노드 이름 변경 테스트용 코드 노드의 이름을 바꾸어 생성하고 연결하면 노드 이름이 변경되어 출력 됨. \n",
    "# graph_builder.add_node(\"ai_bot\", chatbot)  # \"chatbot\" → \"ai_bot\"으로 변경\n",
    "# graph_builder.add_edge(START, \"ai_bot\")  #  \"chatbot\" → \"ai_bot\"\n",
    "# graph_builder.add_edge(\"ai_bot\", END)    # \"chatbot\" → \"ai_bot\"\n",
    "# graph = graph_builder.compile()"
   ]
  },
  {
   "cell_type": "code",
   "execution_count": 18,
   "metadata": {},
   "outputs": [
    {
     "data": {
      "image/png": "[encoded data removed]",
      "text/plain": [
       "<IPython.core.display.Image object>"
      ]
     },
     "metadata": {},
     "output_type": "display_data"
    }
   ],
   "source": [
    "#그래프 구조 시각화 단계.\n",
    "from IPython.display import Image, display\n",
    "\n",
    "try:\n",
    "    display(Image(graph.get_graph().draw_mermaid_png()))\n",
    "except Exception:\n",
    "    pass"
   ]
  },
  {
   "cell_type": "code",
   "execution_count": null,
   "metadata": {},
   "outputs": [
    {
     "data": {
      "image/png": "[encoded data removed]",
      "text/plain": [
       "<IPython.core.display.Image object>"
      ]
     },
     "metadata": {},
     "output_type": "display_data"
    }
   ],
   "source": [
    "# #그래프 구조 시각화 단계. 노드 명 바꾸었을때 시행된 결과임. \n",
    "# from IPython.display import Image, display\n",
    "\n",
    "# try:\n",
    "#     display(Image(graph.get_graph().draw_mermaid_png()))\n",
    "# except Exception:\n",
    "#     pass"
   ]
  },
  {
   "cell_type": "code",
   "execution_count": null,
   "metadata": {},
   "outputs": [
    {
     "name": "stdout",
     "output_type": "stream",
     "text": [
      "User:  안녕\n",
      "Assistant: 안녕하세요! 무엇을 도와드릴까요?\n",
      "User:  너의 이름은 뭐니?\n",
      "Assistant: 저는 AI 언어 모델이기 때문에 이름이 따로 없습니다. 그냥 \"AI\"나 \"챗GPT\"라고 불러주시면 됩니다. 어떻게 도와드릴까요?\n",
      "User:  state의 내용을 전부 보여 줄 수 있니?\n",
      "Assistant: 죄송하지만 특정 문서나 자료의 내용을 전부 보여드릴 수는 없습니다. 대신, 해당 주제에 대해 요약하거나 설명해드릴 수 있습니다. \"state\"라는 용어가 어떤 맥락에서 사용되는지 좀 더 구체적으로 말씀해 주시면 도움이 될 것 같습니다!\n",
      "User:  너와 한 대화 기록을 보여 줘\n",
      "Assistant: 죄송하지만, 이전 대화 기록을 보여드릴 수는 없습니다. 제가 사용자와의 개인적인 대화를 기록하지 않기 때문입니다. 그러나 어떤 질문이나 주제에 대해 자유롭게 이야기해 주시면, 최선을 다해 도와드리겠습니다!\n",
      "User:  q\n",
      "Goodbye!\n"
     ]
    }
   ],
   "source": [
    "#그래프 업데이트 하기 위한 함수. \n",
    "def stream_graph_updates(user_input: str): #문자열로 입력\n",
    "    for event in graph.stream({\"messages\": [{\"role\": \"user\", \"content\": user_input}]}):# 메세지를 초기화 하는 기능을 함. \n",
    "        for value in event.values():\n",
    "            print(\"Assistant:\", value[\"messages\"][-1].content)\n",
    "\n",
    "while True:\n",
    "    try:\n",
    "        user_input = input(\"User: \")\n",
    "        print(\"User: \", user_input)\n",
    "        # 종료 하기 위한 함수. \n",
    "        if user_input.lower() in [\"quit\", \"exit\", \"q\"]:\n",
    "            print(\"Goodbye!\")\n",
    "            break\n",
    "\n",
    "        stream_graph_updates(user_input)\n",
    "    except:\n",
    "        # fallback if input() is not available\n",
    "        user_input = \"What do you know about LangGraph?\"\n",
    "        print(\"User: \" + user_input)\n",
    "        stream_graph_updates(user_input)\n",
    "        break"
   ]
  },
  {
   "cell_type": "code",
   "execution_count": null,
   "metadata": {},
   "outputs": [],
   "source": [
    "#주석 생략한 통합 버전. \n",
    "from typing import Annotated\n",
    "from langchain_openai import ChatOpenAI\n",
    "from langchain_anthropic import ChatAnthropic #공식문서 원본 재현할 경우에만 사용. \n",
    "from typing_extensions import TypedDict\n",
    "\n",
    "from langgraph.graph import StateGraph\n",
    "from langgraph.graph.message import add_messages\n",
    "\n",
    "\n",
    "class State(TypedDict):\n",
    "    messages: Annotated[list, add_messages]\n",
    "\n",
    "graph_builder = StateGraph(State)\n",
    "\n",
    "# llm = ChatAnthropic(model=\"claude-3-5-sonnet-20240620\")\n",
    "llm  = ChatOpenAI(model=\"gpt-4o-mini\")\n",
    "\n",
    "def chatbot(state: State):\n",
    "    return {\"messages\": [llm.invoke(state[\"messages\"])]}\n",
    "\n",
    "graph_builder.add_node(\"chatbot\", chatbot)\n",
    "graph_builder.set_entry_point(\"chatbot\")\n",
    "graph_builder.set_finish_point(\"chatbot\")\n",
    "graph = graph_builder.compile()"
   ]
  },
  {
   "cell_type": "code",
   "execution_count": null,
   "metadata": {},
   "outputs": [],
   "source": []
  }
 ],
 "metadata": {
  "kernelspec": {
   "display_name": "Python (langgraph)",
   "language": "python",
   "name": "graph_env"
  },
  "language_info": {
   "codemirror_mode": {
    "name": "ipython",
    "version": 3
   },
   "file_extension": ".py",
   "mimetype": "text/x-python",
   "name": "python",
   "nbconvert_exporter": "python",
   "pygments_lexer": "ipython3",
   "version": "3.12.7"
  }
 },
 "nbformat": 4,
 "nbformat_minor": 2
}
