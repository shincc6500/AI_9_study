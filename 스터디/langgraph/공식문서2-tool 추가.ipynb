{
 "cells": [
  {
   "cell_type": "markdown",
   "metadata": {},
   "source": [
    "# 공식 문서 튜토리얼 \n",
    "## 도구로 챗봇 강화하기 \n",
    "\n",
    "본 문서에서는 이해의 편의를 위해 prompt를 영어 대신 한글로 사용하였음. \n",
    "\n",
    "또한 chatantropic대신 chatopenai를 사용하여 공식 문서와 결과가 다소 다를 수 있음. "
   ]
  },
  {
   "cell_type": "code",
   "execution_count": null,
   "metadata": {},
   "outputs": [],
   "source": [
    "import getpass\n",
    "import os\n",
    "\n",
    "#환경변수에 값 등록하기 위한 함수\n",
    "def _set_env(var: str):\n",
    "    if not os.environ.get(var):\n",
    "        os.environ[var] = getpass.getpass(f\"{var}: \")"
   ]
  },
  {
   "cell_type": "code",
   "execution_count": 3,
   "metadata": {},
   "outputs": [],
   "source": [
    "# Tavily_api_key 입력 \n",
    "_set_env(\"TAVILY_API_KEY\")\n",
    "\n",
    "#openai api key 저장. 입력시 실수하지 않도록 주의할 것. \n",
    "_set_env(\"OPENAI_API_KEY\")"
   ]
  },
  {
   "cell_type": "code",
   "execution_count": 5,
   "metadata": {},
   "outputs": [
    {
     "data": {
      "text/plain": [
       "[{'url': 'https://teach-meaning.tistory.com/1139',\n",
       "  'content': 'LangGraph 의 노드 함수 역할을 한다. 현재 상태 State 를 입력으로 받아 업데이트된 상태를 반환하는데, 특히 챗봇의 메시지 리스트를 업데이트하는 방식'},\n",
       " {'url': 'https://digitalbourgeois.tistory.com/377',\n",
       "  'content': \"노드(Node)와 엣지(Edge)를 사용하여 데이터 흐름을 시각화하고 제어할 수 있으며, 조건부 엣지(Conditional Edge), Human-in-the-loop, Checkpointer, State 등의 기능을 통해 유연하고 강력한 파이프라인을 구성할 수 있습니다. 조건부 엣지(Conditional Edge): 특정 조건에 따라 노드 간의 연결을 동적으로 변경할 수 있습니다. from langgraph import Node, Edge, Graph, State graph.add_nodes([retriever, generator, evaluator]) graph.add_edge(Edge(retriever, generator)) graph.add_edge(Edge(evaluator, retriever, condition=feedback_condition)) graph.add_node(human_feedback) graph.add_node(checkpoint) graph.add_edge(Edge(evaluator, human_feedback, condition=lambda state: not state['satisfied'])) graph.add_edge(Edge(human_feedback, retriever)) 순환 처리와 재처리를 통해 LLM의 한계를 극복하고, 더욱 정확하고 신뢰성 있는 응답을 제공할 수 있습니다. 앤트로픽의 새로운 비밀 무기: Contextual Retrieval로 LLM의 한계를 넘어서다\\xa0\\xa0(0)2024.10.04출처까지 알려주는 혁신적 AI 검색 엔진, Perplexity AI의 모든 것\\xa0\\xa0(0)2024.09.30LangChain에서 효율적인 검색을 위한 다중 Retriever전략\\xa0\\xa0(0)2024.09.26텍스트를 벡터로 변환하는 비밀: LangChain Embedding의 세계\\xa0\\xa0(0)2024.09.25문서를 효과적으로 나누는 방법: LangChain TextSplitter 활용하기\\xa0\\xa0(1)2024.09.25\"}]"
      ]
     },
     "execution_count": 5,
     "metadata": {},
     "output_type": "execute_result"
    }
   ],
   "source": [
    "#tool 정의 \n",
    "from langchain_community.tools.tavily_search import TavilySearchResults\n",
    "\n",
    "tool = TavilySearchResults(max_results=2) #최대 2개까지만 결과로 받음. \n",
    "tools = [tool] #tools는 tool을 도구로 가짐. 필요한 경우 복수의 도구를 포함할 수 있음. \n",
    "tool.invoke(\"LangGraph에서 'node'는 뭐야?\") #입력을 받아 결과를 출력"
   ]
  },
  {
   "cell_type": "code",
   "execution_count": 6,
   "metadata": {},
   "outputs": [
    {
     "data": {
      "text/plain": [
       "<langgraph.graph.state.StateGraph at 0x242dda24a70>"
      ]
     },
     "execution_count": 6,
     "metadata": {},
     "output_type": "execute_result"
    }
   ],
   "source": [
    "from typing import Annotated\n",
    "from langchain_openai import ChatOpenAI\n",
    "from typing_extensions import TypedDict\n",
    "from langgraph.graph import StateGraph, START, END\n",
    "from langgraph.graph.message import add_messages\n",
    "\n",
    "#스테이트 정의 \n",
    "class State(TypedDict):\n",
    "    messages: Annotated[list, add_messages]\n",
    "\n",
    "#노드 기능용 함수 정의 \n",
    "def chatbot(state: State):\n",
    "    return {\"messages\": [llm_with_tools.invoke(state[\"messages\"])]}\n",
    "\n",
    "#llm 모델 선언. \n",
    "llm  = ChatOpenAI(model=\"gpt-4o-mini\")\n",
    "# llm에게 호출을 위한 도구를 추가. \n",
    "llm_with_tools = llm.bind_tools(tools)\n",
    "\n",
    "\n",
    "#그래프 구조 선언. \n",
    "graph_builder = StateGraph(State)\n",
    "#그래프에 chatbot 노드 생성\n",
    "graph_builder.add_node(\"chatbot\", chatbot)"
   ]
  },
  {
   "cell_type": "code",
   "execution_count": 7,
   "metadata": {},
   "outputs": [
    {
     "data": {
      "text/plain": [
       "<langgraph.graph.state.StateGraph at 0x242dda24a70>"
      ]
     },
     "execution_count": 7,
     "metadata": {},
     "output_type": "execute_result"
    }
   ],
   "source": [
    "import json\n",
    "from langchain_core.messages import ToolMessage\n",
    "\n",
    "class BasicToolNode:\n",
    "    \"\"\"마지막 ai message에서 요청된 도구를 실행하는 도구 .\"\"\"\n",
    "\n",
    "    #tools의 리스트를 받아 딕셔너리 형태로 변환하여 저장하는 생성자\n",
    "    def __init__(self, tools: list) -> None: #-> None는 이 함수는 값을 반환하지 않는다는 타입 힌트. \n",
    "        self.tools_by_name = {tool.name: tool for tool in tools} #tool.name과 tools의 각 요소를 연결한 딕셔너리 생성. \n",
    "\n",
    "    # 요청 처리용 함수\n",
    "    def __call__(self, inputs: dict): #inputs는 dict 형식\n",
    "        # inputs에서 messages를 획득. 값이 없는 경우 error 발생\n",
    "        if messages := inputs.get(\"messages\", []):\n",
    "            message = messages[-1]\n",
    "        else:\n",
    "            raise ValueError(\"No message found in input\")\n",
    "        outputs = [] #결과 저장용 리스트 \n",
    "        \n",
    "        for tool_call in message.tool_calls:# message에서 tool_calls 값 획득 및 각각 처리 \n",
    "            #현재 호출된 도구를 전달된 인수를 사용하여 실행. \n",
    "            tool_result = self.tools_by_name[tool_call[\"name\"]].invoke(\n",
    "                tool_call[\"args\"] # 도구 실행에 필요한 매개변수.\n",
    "            )\n",
    "            # 출력에 ToolMessage 내용 추가. \n",
    "            outputs.append(\n",
    "                ToolMessage(\n",
    "                    content=json.dumps(tool_result),\n",
    "                    name=tool_call[\"name\"],\n",
    "                    tool_call_id=tool_call[\"id\"],\n",
    "                )\n",
    "            )\n",
    "        return {\"messages\": outputs} #output를 messages 키의 값으로 갖는 딕셔너리 반환. \n",
    "\n",
    "#tool_node 변수에 함수 할당. \n",
    "tool_node = BasicToolNode(tools=[tool]) # tools는 미리 리스트로 선언해 두는 것이 좋음. \n",
    "#tool_node 사용할 노드 생성. \n",
    "graph_builder.add_node(\"tools\", tool_node)"
   ]
  },
  {
   "cell_type": "code",
   "execution_count": 8,
   "metadata": {},
   "outputs": [],
   "source": [
    "def route_tools(state: State,):\n",
    "    \"\"\"\n",
    "    마지막 메세지가 tool calls가 있는경우 \n",
    "    conditional_edge가 toolnode로 경로 설정 한다. \n",
    "    그 외에는 end 노드로 경로 설정\n",
    "    \"\"\"\n",
    "    if isinstance(state, list): #state 객체가 list인 경우\n",
    "        ai_message = state[-1] #ai_message는 state의 마지막 값. \n",
    "    elif messages := state.get(\"messages\", []): #state가 딕셔너리일 때 message값 반환. 없는 경우 빈 리스트 반환\n",
    "        ai_message = messages[-1] #message의 마지막 값 할당. \n",
    "    else: #그 외의 경우 value error 반환 \n",
    "        raise ValueError(f\"No messages found in input state to tool_edge: {state}\")\n",
    "    # ai_message가 tool_calls를 가지고 있고, ai_message.tool_calls의 길이가 0 초과일 때 \n",
    "    if hasattr(ai_message, \"tool_calls\") and len(ai_message.tool_calls) > 0:\n",
    "        return \"tools\" # tools를 반환. \n",
    "    return END\n",
    "\n",
    "\n",
    "# 챗봇이 도구를 사용하라고 요청하면, route_tools 함수가 tools를 반환하고 직접 응답해도 괜찮은 경우 \"END\"를 선택합니다. \n",
    "# 이 조건부 라우팅은 메인 에이전트 루프를 정의합니다\n",
    "# 조건부 노드는 무조건 단일 노드에서 시작함. \n",
    "graph_builder.add_conditional_edges(\n",
    "    \"chatbot\", #출발 노드\n",
    "    route_tools, #경로 지정 함수. 함수 결과에 따라 연결되는 노드가 변경.\n",
    "    {\"tools\": \"tools\", END: END}, \n",
    "    # 위의 딕셔너리를 사용하면 출력을 특정 노드로 해석하는 그래프 생성 가능. \n",
    "    # 항등함수(identity function)가 기본값이지만, 노드 이름을 따로 지정하고 싶은 경우에는 다음과 같은 예시를 사용할 수 있다. e.g \"tools\": \"my_tools\"\n",
    ")\n",
    "\n",
    "graph_builder.add_edge(\"tools\", \"chatbot\") #tool이 호출될 때 마다 챗봇으로 돌아가 다음 단계를 결정하기 위해 tools 노드에서 chatbot로 이동할 경로를 설정. \n",
    "graph_builder.add_edge(START, \"chatbot\") # 시작지점에서 chatbot 노드로 이동할 경로를 설정. \n",
    "graph = graph_builder.compile()"
   ]
  },
  {
   "cell_type": "code",
   "execution_count": 9,
   "metadata": {},
   "outputs": [
    {
     "data": {
      "image/png": "[encoded data removed]",
      "text/plain": [
       "<IPython.core.display.Image object>"
      ]
     },
     "metadata": {},
     "output_type": "display_data"
    }
   ],
   "source": [
    "#시각화 절차 \n",
    "from IPython.display import Image, display\n",
    "\n",
    "try:\n",
    "    display(Image(graph.get_graph().draw_mermaid_png()))\n",
    "except Exception:\n",
    "    # This requires some extra dependencies and is optional\n",
    "    pass"
   ]
  },
  {
   "cell_type": "code",
   "execution_count": 10,
   "metadata": {},
   "outputs": [],
   "source": [
    "#그래프 업데이트 하기 위한 함수. \n",
    "def stream_graph_updates(user_input: str): #문자열로 입력\n",
    "    for event in graph.stream({\"messages\": [{\"role\": \"user\", \"content\": user_input}]}):# 메세지를 초기화 하는 기능을 함. \n",
    "        for value in event.values():\n",
    "            print(\"Assistant:\", value[\"messages\"][-1].content)"
   ]
  },
  {
   "cell_type": "code",
   "execution_count": 12,
   "metadata": {},
   "outputs": [
    {
     "name": "stdout",
     "output_type": "stream",
     "text": [
      "langgraph에 대해 무었을 알고 있어?\n",
      "Assistant: \n",
      "Assistant: [{\"url\": \"https://github.com/langchain-ai/langgraph\", \"content\": \"GitHub - langchain-ai/langgraph: Build resilient language agents as graphs. LangGraph is a library for building stateful, multi-actor applications with LLMs, used to create agent and multi-agent workflows. Let's build a tool-calling ReAct-style agent that uses a search tool! The simplest way to create a tool-calling agent in LangGraph is to use create_react_agent: Define the tools for the agent to use Define the tools for the agent to use This means that after tools is called, agent node is called next. workflow.add_edge(\\\"tools\\\", 'agent') Normal edge: after the tools are invoked, the graph should always return to the agent to decide what to do next LangGraph adds the input message to the internal state, then passes the state to the entrypoint node, \\\"agent\\\".\"}, {\"url\": \"https://www.langchain.com/langgraph\", \"content\": \"Build and scale agentic applications with LangGraph Platform. Design agent-driven user experiences with LangGraph Platform's APIs. Quickly deploy and scale your application with infrastructure built for agents. LangGraph sets the foundation for how we can build and scale AI workloads \\u2014 from conversational agents, complex task automation, to custom LLM-backed experiences that 'just work'. The next chapter in building complex production-ready features with LLMs is agentic, and with LangGraph and LangSmith, LangChain delivers an out-of-the-box solution to iterate quickly, debug immediately, and scale effortlessly.\\u201d LangGraph sets the foundation for how we can build and scale AI workloads \\u2014 from conversational agents, complex task automation, to custom LLM-backed experiences that 'just work'. LangGraph Platform is a service for deploying and scaling LangGraph applications, with an opinionated API for building agent UXs, plus an integrated developer studio.\"}]\n",
      "Assistant: LangGraph는 Langchain AI에서 개발한 라이브러리로, 상태를 유지하는 다중 액터 애플리케이션을 구축하는 데 사용됩니다. 이 라이브러리는 대화형 에이전트 및 다중 에이전트 워크플로를 만들기 위한 도구로 활용됩니다. LangGraph의 핵심 기능 중 하나는 에이전트가 사용할 도구를 정의하고, 도구가 호출된 후 에이전트가 다음에 어떤 작업을 수행할지 결정하는 구조를 갖추고 있다는 점입니다.\n",
      "\n",
      "주요 특징은 다음과 같습니다:\n",
      "\n",
      "1. **상태 관리**: LangGraph는 입력 메시지를 내부 상태에 추가하고, 이 상태를 에이전트 노드로 전달합니다.\n",
      "2. **에이전트 드리븐 애플리케이션**: LangGraph 플랫폼은 대화형 에이전트부터 복잡한 작업 자동화, 커스텀 LLM 기반 경험까지 다양한 AI 워크로드를 구축하고 확장하는 기반을 제공합니다.\n",
      "3. **빠른 배포 및 확장**: LangGraph 플랫폼은 애플리케이션을 쉽게 배포하고 확장할 수 있는 인프라를 제공하며, 에이전트 UX를 구축하기 위한 통합 개발 스튜디오를 포함하고 있습니다.\n",
      "\n",
      "더 자세한 내용은 [LangGraph GitHub 페이지](https://github.com/langchain-ai/langgraph)나 [LangChain 웹사이트](https://www.langchain.com/langgraph)를 참조하실 수 있습니다.\n",
      "Goodbye!\n"
     ]
    }
   ],
   "source": [
    "#지속된 대화를 수행하기 위한 입력. \n",
    "while True:\n",
    "    try:\n",
    "        user_input = input(\"User: \")\n",
    "        if user_input.lower() in [\"quit\", \"exit\", \"q\"]:\n",
    "            print(\"Goodbye!\")\n",
    "            break\n",
    "        print(user_input)\n",
    "        stream_graph_updates(user_input)\n",
    "    except:\n",
    "        # fallback if input() is not available\n",
    "        user_input = \"What do you know about LangGraph?\"\n",
    "        print(\"User: \" + user_input)\n",
    "        stream_graph_updates(user_input)\n",
    "        break"
   ]
  },
  {
   "cell_type": "code",
   "execution_count": null,
   "metadata": {},
   "outputs": [],
   "source": [
    "#주석 없이 구현. \n",
    "from typing import Annotated\n",
    "from langchain_anthropic import ChatAnthropic # 공식문서와 동일하게 재현하고 싶은 경우에 사용. \n",
    "from langchain_openai import ChatOpenAI\n",
    "from langchain_community.tools.tavily_search import TavilySearchResults\n",
    "from langchain_core.messages import BaseMessage\n",
    "from typing_extensions import TypedDict\n",
    "\n",
    "from langgraph.graph import StateGraph\n",
    "from langgraph.graph.message import add_messages\n",
    "from langgraph.prebuilt import ToolNode, tools_condition\n",
    "\n",
    "\n",
    "class State(TypedDict):\n",
    "    messages: Annotated[list, add_messages]\n",
    "\n",
    "graph_builder = StateGraph(State)\n",
    "\n",
    "tool = TavilySearchResults(max_results=2)\n",
    "tools = [tool]\n",
    "# llm = ChatAnthropic(model=\"claude-3-5-sonnet-20240620\")\n",
    "llm  = ChatOpenAI(model=\"gpt-4o-mini\")\n",
    "llm_with_tools = llm.bind_tools(tools)\n",
    "\n",
    "\n",
    "def chatbot(state: State):\n",
    "    return {\"messages\": [llm_with_tools.invoke(state[\"messages\"])]}\n",
    "\n",
    "graph_builder.add_node(\"chatbot\", chatbot)\n",
    "\n",
    "#basic tool node 함수 대신 ToolNode 사용. 해당 기능을 지원하는 공식 api가 존재\n",
    "tool_node = ToolNode(tools=[tool])\n",
    "graph_builder.add_node(\"tools\", tool_node)\n",
    "\n",
    "#route_tools 함수 대신 tools_condition 사용. 해당 기능을 지원하는 공식 api가 존재\n",
    "graph_builder.add_conditional_edges(\n",
    "    \"chatbot\",\n",
    "    tools_condition, #메세지의 내부에 tool_calls가 존재하면 tool로 전달, 아닐경우 end로 연결. \n",
    ")\n",
    "\n",
    "graph_builder.add_edge(\"tools\", \"chatbot\")\n",
    "graph_builder.set_entry_point(\"chatbot\")\n",
    "graph = graph_builder.compile()"
   ]
  },
  {
   "cell_type": "code",
   "execution_count": null,
   "metadata": {},
   "outputs": [],
   "source": [
    "#그래프 업데이트 하기 위한 함수. \n",
    "def stream_graph_updates(user_input: str): #문자열로 입력\n",
    "    for event in graph.stream({\"messages\": [{\"role\": \"user\", \"content\": user_input}]}):# 메세지를 초기화 하는 기능을 함. \n",
    "        for value in event.values():\n",
    "            print(\"Assistant:\", value[\"messages\"][-1].content)\n",
    "\n",
    "# 대화용 함수\n",
    "while True:\n",
    "    try:\n",
    "        user_input = input(\"User: \")\n",
    "        if user_input.lower() in [\"quit\", \"exit\", \"q\"]:\n",
    "            print(\"Goodbye!\")\n",
    "            break\n",
    "\n",
    "        stream_graph_updates(user_input)\n",
    "    except:\n",
    "        # fallback if input() is not available\n",
    "        user_input = \"What do you know about LangGraph?\"\n",
    "        print(\"User: \" + user_input)\n",
    "        stream_graph_updates(user_input)\n",
    "        break"
   ]
  }
 ],
 "metadata": {
  "kernelspec": {
   "display_name": "Python (langgraph)",
   "language": "python",
   "name": "graph_env"
  },
  "language_info": {
   "codemirror_mode": {
    "name": "ipython",
    "version": 3
   },
   "file_extension": ".py",
   "mimetype": "text/x-python",
   "name": "python",
   "nbconvert_exporter": "python",
   "pygments_lexer": "ipython3",
   "version": "3.12.7"
  }
 },
 "nbformat": 4,
 "nbformat_minor": 2
}
