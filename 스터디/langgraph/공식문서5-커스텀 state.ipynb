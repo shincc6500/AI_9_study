{
 "cells": [
  {
   "cell_type": "markdown",
   "metadata": {},
   "source": [
    "# 공식 문서 \n",
    "## 커스텀 state"
   ]
  },
  {
   "cell_type": "code",
   "execution_count": 1,
   "metadata": {},
   "outputs": [],
   "source": [
    "import getpass\n",
    "import os\n",
    "\n",
    "#환경변수에 값 등록하기 위한 함수\n",
    "def _set_env(var: str):\n",
    "    if not os.environ.get(var):\n",
    "        os.environ[var] = getpass.getpass(f\"{var}: \")"
   ]
  },
  {
   "cell_type": "code",
   "execution_count": 2,
   "metadata": {},
   "outputs": [],
   "source": [
    "# Tavily_api_key 입력 \n",
    "_set_env(\"TAVILY_API_KEY\")\n",
    "\n",
    "#openai api key 저장. 입력시 실수하지 않도록 주의할 것. \n",
    "_set_env(\"OPENAI_API_KEY\")\n",
    "\n",
    "#Anthropic api key 입력 #이건 필요한 경우만. \n",
    "# _set_env(\"ANTHROPIC_API_KEY\")"
   ]
  },
  {
   "cell_type": "code",
   "execution_count": 3,
   "metadata": {},
   "outputs": [],
   "source": [
    "from typing import Annotated\n",
    "from typing_extensions import TypedDict\n",
    "from langgraph.graph.message import add_messages\n",
    "\n",
    "# 초기 스테이트 정의. \n",
    "class State(TypedDict):\n",
    "    messages: Annotated[list, add_messages]\n",
    "    name: str\n",
    "    birthday: str"
   ]
  },
  {
   "cell_type": "code",
   "execution_count": null,
   "metadata": {},
   "outputs": [],
   "source": [
    "from langchain_core.messages import ToolMessage\n",
    "from langchain_core.tools import InjectedToolCallId, tool\n",
    "\n",
    "from langgraph.types import Command, interrupt\n",
    "\n",
    "# 상태 업데이트를 위해 tool message를 생성하여 일반적으로 해당 도구 호출의 id가 필요\n",
    "# LangChain의 InjustedToolCallId를 사용하여 도구 호출을 위한 id 부여 \n",
    "# 또한 api 스키마에 노출되지 않음.(LLM에 전달 x, langchain에서만 관리.)\n",
    "@tool\n",
    "def human_assistance(\n",
    "    name: str, birthday: str, tool_call_id: Annotated[str, InjectedToolCallId]\n",
    "    ) -> str:\n",
    "    \"\"\" Request assistance from a human.  \"\"\" # langgraph에서 tool에 등록하기 위한 문서 설명. 삭제할 경우 코드 정지하니 절대로 삭제하지 말것.!!!!!!\n",
    "    #정지 요청. human_response = command()를 통해 명령 입력\n",
    "    human_response = interrupt(\n",
    "        {\n",
    "            \"question\": \"Is this correct?\",\n",
    "            \"name\": name,\n",
    "            \"birthday\": birthday,\n",
    "        },\n",
    "    )\n",
    "    # 정보에 문제가 없으면 그대로 사용. .\n",
    "    if human_response.get(\"correct\", \"\").lower().startswith(\"y\"): #correct키의 값이 y로 시작하는지 확인. \n",
    "        verified_name = name\n",
    "        verified_birthday = birthday\n",
    "        response = \"Correct\"\n",
    "    # 아닐 경우 인간 검토자로부터 정보를 획득. \n",
    "    else:\n",
    "        verified_name = human_response.get(\"name\", name)\n",
    "        verified_birthday = human_response.get(\"birthday\", birthday)\n",
    "        response = f\"Made a correction: {human_response}\"\n",
    "\n",
    "    # This time we explicitly update the state with a ToolMessage inside\n",
    "    # the tool.\n",
    "    state_update = {\n",
    "        \"name\": verified_name,\n",
    "        \"birthday\": verified_birthday,\n",
    "        \"messages\": [ToolMessage(response, tool_call_id=tool_call_id)],\n",
    "    }\n",
    "    # We return a Command object in the tool to update our state.\n",
    "    return Command(update=state_update)"
   ]
  },
  {
   "cell_type": "code",
   "execution_count": 5,
   "metadata": {},
   "outputs": [],
   "source": [
    "from langchain_openai import ChatOpenAI\n",
    "from langchain_community.tools.tavily_search import TavilySearchResults\n",
    "\n",
    "from langgraph.checkpoint.memory import MemorySaver\n",
    "from langgraph.graph import StateGraph, START, END\n",
    "from langgraph.prebuilt import ToolNode, tools_condition\n",
    "\n",
    "# 챗봇 형성용 코드 \n",
    "tool = TavilySearchResults(max_results=2)\n",
    "tools = [tool, human_assistance]\n",
    "llm  = ChatOpenAI(model=\"gpt-4o-mini\")\n",
    "llm_with_tools = llm.bind_tools(tools)\n",
    "\n",
    "\n",
    "def chatbot(state: State):\n",
    "    message = llm_with_tools.invoke(state[\"messages\"])\n",
    "    assert len(message.tool_calls) <= 1\n",
    "    return {\"messages\": [message]}\n",
    "\n",
    "\n",
    "graph_builder = StateGraph(State)\n",
    "tool_node = ToolNode(tools=tools)\n",
    "\n",
    "graph_builder.add_node(\"chatbot\", chatbot)\n",
    "graph_builder.add_node(\"tools\", tool_node)\n",
    "\n",
    "#conditional edge 선언. chatbot와 tools_contitions연결\n",
    "graph_builder.add_conditional_edges(\n",
    "    \"chatbot\",\n",
    "    tools_condition,\n",
    ")\n",
    "graph_builder.add_edge(\"tools\", \"chatbot\") #tools와 chatbot 연결. \n",
    "graph_builder.add_edge(START, \"chatbot\") #start와 chatbot 연결. \n",
    "\n",
    "memory = MemorySaver()\n",
    "graph = graph_builder.compile(checkpointer=memory)"
   ]
  },
  {
   "cell_type": "code",
   "execution_count": 6,
   "metadata": {},
   "outputs": [
    {
     "data": {
      "image/png": "[encoded data removed]",
      "text/plain": [
       "<IPython.core.display.Image object>"
      ]
     },
     "metadata": {},
     "output_type": "display_data"
    }
   ],
   "source": [
    "from IPython.display import Image, display\n",
    "\n",
    "try:\n",
    "    display(Image(graph.get_graph().draw_mermaid_png()))\n",
    "except Exception:\n",
    "    # This requires some extra dependencies and is optional\n",
    "    pass"
   ]
  },
  {
   "cell_type": "code",
   "execution_count": 7,
   "metadata": {},
   "outputs": [
    {
     "name": "stdout",
     "output_type": "stream",
     "text": [
      "================================\u001b[1m Human Message \u001b[0m=================================\n",
      "\n",
      "langgraph가 언제 개발되었는지 보여줄 수 있어? 답이 있는 경우, 검토를 위해 human_assistance 도구를 사용해\n",
      "==================================\u001b[1m Ai Message \u001b[0m==================================\n",
      "Tool Calls:\n",
      "  tavily_search_results_json (call_QfwKj0D51RJWjew6ia2La5A3)\n",
      " Call ID: call_QfwKj0D51RJWjew6ia2La5A3\n",
      "  Args:\n",
      "    query: langgraph 개발 연도\n",
      "=================================\u001b[1m Tool Message \u001b[0m=================================\n",
      "Name: tavily_search_results_json\n",
      "\n",
      "[{\"url\": \"https://cloud.google.com/vertex-ai/generative-ai/docs/reasoning-engine/develop-langgraph?hl=ko\", \"content\": \"컴퓨팅 데이터베이스 아키텍처 센터 中文 – 简体 무료로 시작하기 컴퓨팅 데이터베이스 아키텍처 센터 # top_k (int): The next token is selected from among the top-k most 먼저 generate_models 패키지를 가져오고 도구를 만듭니다. This eclipse will be visible from three states: Montana, North Dakota, and * The Matrix (1999): A computer hacker learns from mysterious rebels about the true nature of his reality and his role in the war against its controllers. a code snippet. snippet. from vertexai.preview.generative_models import ToolConfig 데이터베이스 설정 | (선택사항) 시스템 안내 | 에이전트가 모든 쿼리에 적용할 안내입니다. [[[\\\"이해하기 쉬움\\\",\\\"easyToUnderstand\\\",\\\"thumb-up\\\"],[\\\"문제가 해결됨\\\",\\\"solvedMyProblem\\\",\\\"thumb-up\\\"],[\\\"기타\\\",\\\"otherUp\\\",\\\"thumb-up\\\"]],[[\\\"이해하기 어려움\\\",\\\"hardToUnderstand\\\",\\\"thumb-down\\\"],[\\\"잘못된 정보 또는 샘플 코드\\\",\\\"incorrectInformationOrSampleCode\\\",\\\"thumb-down\\\"],[\\\"필요한 정보/샘플이 없음\\\",\\\"missingTheInformationSamplesINeed\\\",\\\"thumb-down\\\"],[\\\"번역 문제\\\",\\\"translationIssue\\\",\\\"thumb-down\\\"],[\\\"기타\\\",\\\"otherDown\\\",\\\"thumb-down\\\"]],[\\\"최종 업데이트: 2025-02-21(UTC)\\\"],[],[]] 분석 보고서 데이터베이스 스마트 분석 클라우드 컴퓨팅 알아보기 클라우드 아키텍처 센터 파트너 찾기 파트너 되기 中文 – 简体\"}, {\"url\": \"https://careerly.co.kr/comments/98524\", \"content\": \"LangChain 에서 만든 LangGraph 출시 | 커리어리 LangChain 에서 만든 LangGraph 출시! 여러 계산 단계에 걸쳐 여러 체인(또는 액터)을 주기적으로 조정할 수 있는 기능으로 LangChain 표현 언어를 확장합니다. ✔️ LangGraph - Multi-Agent Collaboration(다중 협업 에이전트) 로 복잡한 테스크를 수행하는 LLM 어플리케이션 제작 ✔️ 튜토리얼 영상: LangChain 에서 만든 LangGraph 찍먹하기 LangGraph - Multi-Agent Collaboration(다중 협업 에이전트) 로 복잡한 테스크를 수행하는 LLM 어플리케이션 제작 테디노트  1  박승규 카카오계열사에서 이것저것 만드는 개발자 10년차 테크리드가 알려주는 '츠요츠요(강한) 엔지니어' 되는 법2  김의중 프론트엔드 개발자 FSD 패턴: 기능 중심 구조로 프론트엔드 복잡성 정복하기3  한정(Jung Han) 라인플러스 프런트엔드 개발자 모든 프런트엔드 개발자가 알아야 할 접근성 필수 사항4  조현욱 페이워치 소프트웨어 엔지니어 B2B와 B2C는 같은 비즈니스가 아닙니다5  장홍석 스페이스오디티 부대표/CPO < 목적이 분명하면, 고통조차 의미 있는 과정이 된다 >\"}]\n",
      "==================================\u001b[1m Ai Message \u001b[0m==================================\n",
      "Tool Calls:\n",
      "  human_assistance (call_zIly4KO21wbaRFyIROesCi7F)\n",
      " Call ID: call_zIly4KO21wbaRFyIROesCi7F\n",
      "  Args:\n",
      "    name: langgraph\n",
      "    birthday: not applicable\n"
     ]
    }
   ],
   "source": [
    "user_input = (\n",
    "    \"langgraph가 언제 개발되었는지 보여줄 수 있어? \"\n",
    "    \"답이 있는 경우, 검토를 위해 human_assistance 도구를 사용해\"\n",
    ")\n",
    "config = {\"configurable\": {\"thread_id\": \"1\"}}\n",
    "\n",
    "events = graph.stream(\n",
    "    {\"messages\": [{\"role\": \"user\", \"content\": user_input}]},\n",
    "    config,\n",
    "    stream_mode=\"values\",\n",
    ")\n",
    "for event in events:\n",
    "    if \"messages\" in event:\n",
    "        event[\"messages\"][-1].pretty_print()\n",
    "\n",
    "# 현재 상황에서는 birthday를 랜덤으로 반환하게 됨. "
   ]
  },
  {
   "cell_type": "code",
   "execution_count": 8,
   "metadata": {},
   "outputs": [
    {
     "name": "stdout",
     "output_type": "stream",
     "text": [
      "==================================\u001b[1m Ai Message \u001b[0m==================================\n",
      "Tool Calls:\n",
      "  human_assistance (call_zIly4KO21wbaRFyIROesCi7F)\n",
      " Call ID: call_zIly4KO21wbaRFyIROesCi7F\n",
      "  Args:\n",
      "    name: langgraph\n",
      "    birthday: not applicable\n",
      "=================================\u001b[1m Tool Message \u001b[0m=================================\n",
      "Name: human_assistance\n",
      "\n",
      "Made a correction: {'name': 'LangGraph', 'birthday': 'Jan 17, 2024'}\n",
      "==================================\u001b[1m Ai Message \u001b[0m==================================\n",
      "\n",
      "LangGraph는 2024년 1월 17일에 개발되었습니다.\n"
     ]
    }
   ],
   "source": [
    "#correct만 활성화 시키면 기존 정보가 맞다고 인식시켜 기존 검색결과를 사용. \n",
    "human_command = Command(\n",
    "    resume={\n",
    "        # \"correct\" : \"yes\"\n",
    "        \"name\": \"LangGraph\",\n",
    "        \"birthday\": \"Jan 17, 2024\",\n",
    "    },\n",
    ")\n",
    "\n",
    "events = graph.stream(human_command, config, stream_mode=\"values\")\n",
    "for event in events:\n",
    "    if \"messages\" in event:\n",
    "        event[\"messages\"][-1].pretty_print()"
   ]
  },
  {
   "cell_type": "code",
   "execution_count": 9,
   "metadata": {},
   "outputs": [
    {
     "data": {
      "text/plain": [
       "{'name': 'LangGraph', 'birthday': 'Jan 17, 2024'}"
      ]
     },
     "execution_count": 9,
     "metadata": {},
     "output_type": "execute_result"
    }
   ],
   "source": [
    "#graph에서 config 조건에서 state를 획득하여snapshot에 할당. \n",
    "snapshot = graph.get_state(config)\n",
    "{k: v for k, v in snapshot.values.items() if k in (\"name\", \"birthday\")} #name와 birthday 키에 대한 값을 출력. "
   ]
  },
  {
   "cell_type": "code",
   "execution_count": 10,
   "metadata": {},
   "outputs": [
    {
     "data": {
      "text/plain": [
       "{'name': 'LangGraph (library)', 'birthday': 'Jan 17, 2024'}"
      ]
     },
     "execution_count": 10,
     "metadata": {},
     "output_type": "execute_result"
    }
   ],
   "source": [
    "#state 값을 수동으로 갱신하는 방법.\n",
    "# config를 이용해 수정할 state를 선택. name :  LangGraph -> 'name': 'LangGraph (library)\n",
    "graph.update_state(config, {\"name\": \"LangGraph (library)\"})\n",
    "\n",
    "#graph에서 config 조건에서 state를 획득하여snapshot에 할당. \n",
    "snapshot = graph.get_state(config)\n",
    "{k: v for k, v in snapshot.values.items() if k in (\"name\", \"birthday\")} #name와 birthday 키에 대한 값을 출력. "
   ]
  },
  {
   "cell_type": "markdown",
   "metadata": {},
   "source": [
    "### 아래 코드는 챗봇을 구성하기 위한 코드를 하나의 셀로 합쳐 놓은 셀임. 기능은 위에서 사용한 코드와 동일함. "
   ]
  },
  {
   "cell_type": "code",
   "execution_count": 14,
   "metadata": {},
   "outputs": [],
   "source": [
    "from typing import Annotated\n",
    "\n",
    "from langchain_openai import ChatOpenAI\n",
    "from langchain_community.tools.tavily_search import TavilySearchResults\n",
    "from langchain_core.messages import ToolMessage\n",
    "from langchain_core.tools import InjectedToolCallId, tool\n",
    "from typing_extensions import TypedDict\n",
    "\n",
    "from langgraph.checkpoint.memory import MemorySaver\n",
    "from langgraph.graph import StateGraph, START, END\n",
    "from langgraph.graph.message import add_messages\n",
    "from langgraph.prebuilt import ToolNode, tools_condition\n",
    "from langgraph.types import Command, interrupt\n",
    "\n",
    "class State(TypedDict):\n",
    "    messages: Annotated[list, add_messages]\n",
    "    name: str\n",
    "    birthday: str\n",
    "\n",
    "\n",
    "@tool\n",
    "def human_assistance(\n",
    "    name: str, birthday: str, tool_call_id: Annotated[str, InjectedToolCallId]\n",
    ") -> str:\n",
    "    \"\"\"Request assistance from a human.\"\"\"\n",
    "    human_response = interrupt(\n",
    "        {\n",
    "            \"question\": \"Is this correct?\",\n",
    "            \"name\": name,\n",
    "            \"birthday\": birthday,\n",
    "        },\n",
    "    )\n",
    "    if human_response.get(\"correct\", \"\").lower().startswith(\"y\"):\n",
    "        verified_name = name\n",
    "        verified_birthday = birthday\n",
    "        response = \"Correct\"\n",
    "    else:\n",
    "        verified_name = human_response.get(\"name\", name)\n",
    "        verified_birthday = human_response.get(\"birthday\", birthday)\n",
    "        response = f\"Made a correction: {human_response}\"\n",
    "\n",
    "    state_update = {\n",
    "        \"name\": verified_name,\n",
    "        \"birthday\": verified_birthday,\n",
    "        \"messages\": [ToolMessage(response, tool_call_id=tool_call_id)],\n",
    "    }\n",
    "    return Command(update=state_update)\n",
    "\n",
    "tool = TavilySearchResults(max_results=2)\n",
    "\n",
    "tools = [tool, human_assistance]\n",
    "llm  = ChatOpenAI(model=\"gpt-4o-mini\")\n",
    "llm_with_tools = llm.bind_tools(tools)\n",
    "\n",
    "\n",
    "def chatbot(state: State):\n",
    "    message = llm_with_tools.invoke(state[\"messages\"])\n",
    "    assert(len(message.tool_calls) <= 1)\n",
    "    return {\"messages\": [message]}\n",
    "tool_node = ToolNode(tools=tools)\n",
    "\n",
    "\n",
    "graph_builder = StateGraph(State)\n",
    "\n",
    "graph_builder.add_node(\"chatbot\", chatbot)\n",
    "graph_builder.add_node(\"tools\", tool_node)\n",
    "\n",
    "graph_builder.add_conditional_edges(\n",
    "    \"chatbot\",\n",
    "    tools_condition,\n",
    ")\n",
    "graph_builder.add_edge(\"tools\", \"chatbot\")\n",
    "graph_builder.add_edge(START, \"chatbot\")\n",
    "\n",
    "memory = MemorySaver()\n",
    "graph = graph_builder.compile(checkpointer=memory)"
   ]
  },
  {
   "cell_type": "code",
   "execution_count": null,
   "metadata": {},
   "outputs": [],
   "source": []
  }
 ],
 "metadata": {
  "kernelspec": {
   "display_name": "Python (langgraph)",
   "language": "python",
   "name": "graph_env"
  },
  "language_info": {
   "codemirror_mode": {
    "name": "ipython",
    "version": 3
   },
   "file_extension": ".py",
   "mimetype": "text/x-python",
   "name": "python",
   "nbconvert_exporter": "python",
   "pygments_lexer": "ipython3",
   "version": "3.12.7"
  }
 },
 "nbformat": 4,
 "nbformat_minor": 2
}
