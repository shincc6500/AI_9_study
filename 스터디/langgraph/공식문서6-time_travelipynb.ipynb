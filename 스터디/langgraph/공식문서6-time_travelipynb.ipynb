{
 "cells": [
  {
   "cell_type": "markdown",
   "metadata": {},
   "source": [
    "# 공식 문서 \n",
    "## time travel"
   ]
  },
  {
   "cell_type": "code",
   "execution_count": 1,
   "metadata": {},
   "outputs": [],
   "source": [
    "import getpass\n",
    "import os\n",
    "\n",
    "#환경변수에 값 등록하기 위한 함수\n",
    "def _set_env(var: str):\n",
    "    if not os.environ.get(var):\n",
    "        os.environ[var] = getpass.getpass(f\"{var}: \")"
   ]
  },
  {
   "cell_type": "code",
   "execution_count": 2,
   "metadata": {},
   "outputs": [],
   "source": [
    "# Tavily_api_key 입력 \n",
    "_set_env(\"TAVILY_API_KEY\")\n",
    "\n",
    "#openai api key 저장. 입력시 실수하지 않도록 주의할 것. \n",
    "_set_env(\"OPENAI_API_KEY\")\n",
    "\n",
    "#Anthropic api key 입력 #이건 필요한 경우만. \n",
    "# _set_env(\"ANTHROPIC_API_KEY\")"
   ]
  },
  {
   "cell_type": "code",
   "execution_count": 4,
   "metadata": {},
   "outputs": [],
   "source": [
    "from typing import Annotated\n",
    "\n",
    "from langchain_openai import ChatOpenAI\n",
    "from langchain_community.tools.tavily_search import TavilySearchResults\n",
    "from langchain_core.messages import BaseMessage\n",
    "from typing_extensions import TypedDict\n",
    "\n",
    "from langgraph.checkpoint.memory import MemorySaver\n",
    "from langgraph.graph import StateGraph, START, END\n",
    "from langgraph.graph.message import add_messages\n",
    "from langgraph.prebuilt import ToolNode, tools_condition\n",
    "\n",
    "\n",
    "class State(TypedDict):\n",
    "    messages: Annotated[list, add_messages]\n",
    "\n",
    "\n",
    "graph_builder = StateGraph(State)\n",
    "\n",
    "\n",
    "tool = TavilySearchResults(max_results=2)\n",
    "tools = [tool]\n",
    "llm = ChatOpenAI(model=\"gpt-4o-mini\")\n",
    "llm_with_tools = llm.bind_tools(tools)\n",
    "\n",
    "\n",
    "def chatbot(state: State):\n",
    "    return {\"messages\": [llm_with_tools.invoke(state[\"messages\"])]}\n",
    "\n",
    "\n",
    "graph_builder.add_node(\"chatbot\", chatbot)\n",
    "\n",
    "tool_node = ToolNode(tools=[tool])\n",
    "graph_builder.add_node(\"tools\", tool_node)\n",
    "\n",
    "graph_builder.add_conditional_edges(\n",
    "    \"chatbot\",\n",
    "    tools_condition,\n",
    ")\n",
    "graph_builder.add_edge(\"tools\", \"chatbot\")\n",
    "graph_builder.add_edge(START, \"chatbot\")\n",
    "\n",
    "memory = MemorySaver()\n",
    "graph = graph_builder.compile(checkpointer=memory)"
   ]
  },
  {
   "cell_type": "code",
   "execution_count": null,
   "metadata": {},
   "outputs": [
    {
     "name": "stdout",
     "output_type": "stream",
     "text": [
      "================================\u001b[1m Human Message \u001b[0m=================================\n",
      "\n",
      "I'm learning LangGraph. Could you do some research on it for me?\n",
      "==================================\u001b[1m Ai Message \u001b[0m==================================\n",
      "Tool Calls:\n",
      "  tavily_search_results_json (call_D8IDf41JEakvrF2UnGKBHVaq)\n",
      " Call ID: call_D8IDf41JEakvrF2UnGKBHVaq\n",
      "  Args:\n",
      "    query: LangGraph overview tutorial\n",
      "=================================\u001b[1m Tool Message \u001b[0m=================================\n",
      "Name: tavily_search_results_json\n",
      "\n",
      "[{\"url\": \"https://www.datacamp.com/tutorial/langgraph-tutorial\", \"content\": \"LangGraph is a library within the LangChain ecosystem that provides a framework for defining, coordinating, and executing multiple LLM agents (or chains) in a structured and efficient manner. By managing the flow of data and the sequence of operations, LangGraph allows developers to focus on the high-level logic of their applications rather than the intricacies of agent coordination. Whether you need a chatbot that can handle various types of user requests or a multi-agent system that performs complex tasks, LangGraph provides the tools to build exactly what you need. LangGraph significantly simplifies the development of complex LLM applications by providing a structured framework for managing state and coordinating agent interactions.\"}, {\"url\": \"https://langchain-ai.github.io/langgraph/tutorials/introduction/\", \"content\": \"[](https://langchain-ai.github.io/langgraph/tutorials/introduction/#__codelineno-4-1)graph_builder.add_edge(START, \\\"chatbot\\\") [](https://langchain-ai.github.io/langgraph/tutorials/introduction/#__codelineno-17-33)graph_builder.add_node(\\\"tools\\\", tool_node) [](https://langchain-ai.github.io/langgraph/tutorials/introduction/#__codelineno-18-19)# The `tools_condition` function returns \\\"tools\\\" if the chatbot asks to use a tool, and \\\"END\\\" if [](https://langchain-ai.github.io/langgraph/tutorials/introduction/#__codelineno-18-32)graph_builder.add_edge(\\\"tools\\\", \\\"chatbot\\\") [](https://langchain-ai.github.io/langgraph/tutorials/introduction/#__codelineno-18-33)graph_builder.add_edge(START, \\\"chatbot\\\") [](https://langchain-ai.github.io/langgraph/tutorials/introduction/#__codelineno-21-34)LangGraph appears to be a significant tool in the evolving landscape of LLM-based application development, offering developers new ways to create more complex, stateful, and interactive AI systems. [](https://langchain-ai.github.io/langgraph/tutorials/introduction/#__codelineno-22-33)graph_builder.add_node(\\\"tools\\\", tool_node) [](https://langchain-ai.github.io/langgraph/tutorials/introduction/#__codelineno-22-40)graph_builder.add_edge(\\\"tools\\\", \\\"chatbot\\\") [](https://langchain-ai.github.io/langgraph/tutorials/introduction/#__codelineno-24-33)graph_builder.add_node(\\\"tools\\\", tool_node) [](https://langchain-ai.github.io/langgraph/tutorials/introduction/#__codelineno-24-40)graph_builder.add_edge(\\\"tools\\\", \\\"chatbot\\\") [](https://langchain-ai.github.io/langgraph/tutorials/introduction/#__codelineno-24-41)graph_builder.add_edge(START, \\\"chatbot\\\") [](https://langchain-ai.github.io/langgraph/tutorials/introduction/#__codelineno-38-34)graph_builder.add_node(\\\"tools\\\", tool_node) [](https://langchain-ai.github.io/langgraph/tutorials/introduction/#__codelineno-38-40)graph_builder.add_edge(\\\"tools\\\", \\\"chatbot\\\") [](https://langchain-ai.github.io/langgraph/tutorials/introduction/#__codelineno-39-48)graph_builder.add_node(\\\"tools\\\", tool_node) [](https://langchain-ai.github.io/langgraph/tutorials/introduction/#__codelineno-39-54)graph_builder.add_edge(\\\"tools\\\", \\\"chatbot\\\") [](https://langchain-ai.github.io/langgraph/tutorials/introduction/#__codelineno-39-55)graph_builder.add_edge(START, \\\"chatbot\\\") [](https://langchain-ai.github.io/langgraph/tutorials/introduction/#__codelineno-49-44)graph_builder.add_node(\\\"tools\\\", tool_node) [](https://langchain-ai.github.io/langgraph/tutorials/introduction/#__codelineno-49-50)graph_builder.add_edge(\\\"tools\\\", \\\"chatbot\\\") [](https://langchain-ai.github.io/langgraph/tutorials/introduction/#__codelineno-49-51)graph_builder.add_edge(START, \\\"chatbot\\\") [](https://langchain-ai.github.io/langgraph/tutorials/introduction/#__codelineno-52-25)graph_builder.add_node(\\\"tools\\\", tool_node) [](https://langchain-ai.github.io/langgraph/tutorials/introduction/#__codelineno-52-31)graph_builder.add_edge(\\\"tools\\\", \\\"chatbot\\\") [](https://langchain-ai.github.io/langgraph/tutorials/introduction/#__codelineno-52-32)graph_builder.add_edge(START, \\\"chatbot\\\") [](https://langchain-ai.github.io/langgraph/tutorials/introduction/#__codelineno-53-3)    \\\"When you have the answer, use the human_assistance tool for review.\\\" [](https://langchain-ai.github.io/langgraph/tutorials/introduction/#__codelineno-63-68)graph_builder.add_node(\\\"tools\\\", tool_node) [](https://langchain-ai.github.io/langgraph/tutorials/introduction/#__codelineno-63-74)graph_builder.add_edge(\\\"tools\\\", \\\"chatbot\\\") [](https://langchain-ai.github.io/langgraph/tutorials/introduction/#__codelineno-63-75)graph_builder.add_edge(START, \\\"chatbot\\\") [](https://langchain-ai.github.io/langgraph/tutorials/introduction/#__codelineno-64-34)graph_builder.add_node(\\\"tools\\\", tool_node) [](https://langchain-ai.github.io/langgraph/tutorials/introduction/#__codelineno-64-40)graph_builder.add_edge(\\\"tools\\\", \\\"chatbot\\\") [](https://langchain-ai.github.io/langgraph/tutorials/introduction/#__codelineno-64-41)graph_builder.add_edge(START, \\\"chatbot\\\") [](https://langchain-ai.github.io/langgraph/tutorials/introduction/#__codelineno-74-24)   There are tutorials available that provide full code examples for building and running multi-tool agents.\"}]\n",
      "==================================\u001b[1m Ai Message \u001b[0m==================================\n",
      "\n",
      "LangGraph is an innovative library within the LangChain ecosystem designed to facilitate the creation and management of multiple Large Language Model (LLM) agents or chains. It streamlines the process of coordinating these agents by abstracting away the complexities involved in agent interaction and data flow, enabling developers to focus on building high-level application logic.\n",
      "\n",
      "### Key Features of LangGraph:\n",
      "- **Structured Framework**: LangGraph provides a structured environment for defining tasks, managing state, and coordinating interactions between agents, making it suitable for building complex applications such as chatbots and multi-agent systems.\n",
      "- **Agent Coordination**: The library simplifies the management of data flow and the sequence of operations among various LLM agents, allowing for more efficient development processes.\n",
      "- **Interactive Systems**: LangGraph supports the development of stateful and interactive AI systems that can respond dynamically to user inputs and actions.\n",
      "\n",
      "### Tutorials and Resources:\n",
      "1. **Introduction to LangGraph**: The official LangChain site offers tutorials that cover the basics of using LangGraph, including code examples for constructing and executing tasks using multiple LLM agents. You can explore these tutorials for practical insights on utilizing LangGraph effectively.\n",
      "   - [LangGraph Tutorial](https://langchain-ai.github.io/langgraph/tutorials/introduction/)\n",
      "\n",
      "2. **DataCamp Tutorial**: A comprehensive tutorial on DataCamp outlines fundamental concepts, practical implementations, and how LangGraph can make the development of complex LLM applications more accessible.\n",
      "   - [LangGraph Overview on DataCamp](https://www.datacamp.com/tutorial/langgraph-tutorial)\n",
      "\n",
      "### Conclusion:\n",
      "LangGraph is a robust tool that greatly enhances the ability to develop interactive and complex LLM applications efficiently. With a wealth of resources available, you can quickly get up to speed with its capabilities and start building sophisticated agents tailored to your needs.\n"
     ]
    }
   ],
   "source": [
    "config = {\"configurable\": {\"thread_id\": \"1\"}}\n",
    "input_message = {\n",
    "        \"messages\": [\n",
    "            {\n",
    "                \"role\": \"user\",\n",
    "                \"content\": (\n",
    "                    \"I'm learning LangGraph. \"\n",
    "                    \"Could you do some research on it for me?\"\n",
    "                ),\n",
    "            },\n",
    "        ],\n",
    "    }\n",
    "\n",
    "events = graph.stream(input_message, config, stream_mode=\"values\", )\n",
    "\n",
    "for event in events:\n",
    "    if \"messages\" in event:\n",
    "        event[\"messages\"][-1].pretty_print()"
   ]
  },
  {
   "cell_type": "code",
   "execution_count": null,
   "metadata": {},
   "outputs": [],
   "source": []
  }
 ],
 "metadata": {
  "kernelspec": {
   "display_name": "Python (langgraph)",
   "language": "python",
   "name": "graph_env"
  },
  "language_info": {
   "codemirror_mode": {
    "name": "ipython",
    "version": 3
   },
   "file_extension": ".py",
   "mimetype": "text/x-python",
   "name": "python",
   "nbconvert_exporter": "python",
   "pygments_lexer": "ipython3",
   "version": "3.12.7"
  }
 },
 "nbformat": 4,
 "nbformat_minor": 2
}
